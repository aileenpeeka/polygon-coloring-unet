{
 "cells": [
  {
   "cell_type": "code",
   "execution_count": null,
   "id": "a79274b1",
   "metadata": {
    "vscode": {
     "languageId": "plaintext"
    }
   },
   "outputs": [],
   "source": [
    "!pip install torch torchvision pillow matplotlib\n",
    "import torch\n",
    "from torchvision import transforms\n",
    "from PIL import Image\n",
    "import matplotlib.pyplot as plt\n",
    "from model.unet import UNet\n",
    "from utils import COLOR_MAP\n",
    "import numpy as np\n"
   ]
  },
  {
   "cell_type": "code",
   "execution_count": null,
   "id": "41b88a73",
   "metadata": {
    "vscode": {
     "languageId": "plaintext"
    }
   },
   "outputs": [],
   "source": [
    "model = UNet()\n",
    "model.load_state_dict(torch.load(\"unet_model.pth\", map_location=\"cpu\"))\n",
    "model.eval()\n"
   ]
  },
  {
   "cell_type": "code",
   "execution_count": null,
   "id": "17eb7956",
   "metadata": {
    "vscode": {
     "languageId": "plaintext"
    }
   },
   "outputs": [],
   "source": [
    "def predict(image_path, color_name):\n",
    "    img = Image.open(image_path).convert(\"RGB\")\n",
    "    color_vec = COLOR_MAP[color_name.lower()]\n",
    "    color_channel = np.ones((img.size[1], img.size[0], 1)) * np.array(color_vec).mean()\n",
    "    img_cond = np.concatenate([np.array(img)/255.0, color_channel], axis=2)\n",
    "    tensor = transforms.ToTensor()(img_cond).unsqueeze(0)\n",
    "    with torch.no_grad():\n",
    "        output = model(tensor)\n",
    "    out_img = transforms.ToPILImage()(output.squeeze(0).clamp(0,1))\n",
    "    return out_img\n",
    "\n",
    "result = predict(\"dataset/validation/inputs/sample.png\", \"blue\")\n",
    "plt.imshow(result)\n",
    "plt.axis(\"off\")\n",
    "plt.show()\n"
   ]
  },
  {
   "cell_type": "code",
   "execution_count": null,
   "id": "f1521014",
   "metadata": {
    "vscode": {
     "languageId": "plaintext"
    }
   },
   "outputs": [],
   "source": []
  }
 ],
 "metadata": {
  "language_info": {
   "name": "python"
  }
 },
 "nbformat": 4,
 "nbformat_minor": 5
}
